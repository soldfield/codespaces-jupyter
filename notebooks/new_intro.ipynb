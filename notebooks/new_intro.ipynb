{
 "cells": [
  {
   "cell_type": "markdown",
   "metadata": {},
   "source": [
    "Python Fundamentals\n",
    "teaching: 20 minutes\n",
    "exercises: 10 minutes\n",
    "---"
   ]
  },
  {
   "cell_type": "markdown",
   "metadata": {},
   "source": [
    "\n",
    "Objectives:\n",
    "\n",
    "- Assign values to variables.\n",
    "\n",
    "Questions\n",
    "\n",
    "- What basic data types can I work with in Python?\n",
    "- How can I create a new variable in Python?\n",
    "- How do I use a function?\n",
    "- Can I change the value associated with a variable after I create it?\n",
    "\n",
    "## Variables\n",
    "\n",
    "Any Python interpreter can be used as a calculator:\n"
   ]
  },
  {
   "cell_type": "code",
   "execution_count": 1,
   "metadata": {},
   "outputs": [
    {
     "data": {
      "text/plain": [
       "23"
      ]
     },
     "execution_count": 1,
     "metadata": {},
     "output_type": "execute_result"
    }
   ],
   "source": [
    "3 + 5 * 4"
   ]
  },
  {
   "cell_type": "markdown",
   "metadata": {},
   "source": [
    "\n",
    "\n",
    "This is great but not very interesting.\n",
    "To do anything useful with data, we need to assign its value to a *variable*.\n",
    "In Python, we can [assign](../learners/reference.md#assign) a value to a\n",
    "[variable](../learners/reference.md#variable), using the equals sign `=`.\n",
    "For example, we can track the weight of a patient who weighs 60 kilograms by\n",
    "assigning the value `60` to a variable `weight_kg`:\n",
    "\n"
   ]
  },
  {
   "cell_type": "code",
   "execution_count": 2,
   "metadata": {},
   "outputs": [],
   "source": [
    "weight_kg = 60"
   ]
  },
  {
   "cell_type": "markdown",
   "metadata": {},
   "source": [
    "From now on, whenever we use `weight_kg`, Python will substitute the value we assigned to\n",
    "it. In layperson's terms, **a variable is a name for a value**.\n",
    "\n",
    "In Python, variable names:\n",
    "\n",
    "- can include letters, digits, and underscores\n",
    "- cannot start with a digit\n",
    "- are [case sensitive](../learners/reference.md#case-sensitive).\n",
    "\n",
    "This means that, for example:\n",
    "\n",
    "- `weight0` is a valid variable name, whereas `0weight` is not\n",
    "- `weight` and `Weight` are different variables\n",
    "\n",
    "## Types of data\n",
    "\n",
    "Python knows various types of data. Three common ones are:\n",
    "\n",
    "- integer numbers\n",
    "- floating point numbers, and\n",
    "- strings.\n",
    "\n",
    "In the example above, variable `weight_kg` has an integer value of `60`.\n",
    "If we want to more precisely track the weight of our patient,\n",
    "we can use a floating point value by executing:\n",
    "\n"
   ]
  },
  {
   "cell_type": "code",
   "execution_count": 3,
   "metadata": {},
   "outputs": [],
   "source": [
    "weight_kg = 60.3"
   ]
  },
  {
   "cell_type": "markdown",
   "metadata": {},
   "source": [
    "\n",
    "To create a string, we add single or double quotes around some text.\n",
    "To identify and track a patient throughout our study,\n",
    "we can assign each person a unique identifier by storing it in a string:\n",
    "\n"
   ]
  },
  {
   "cell_type": "code",
   "execution_count": 4,
   "metadata": {},
   "outputs": [],
   "source": [
    "patient_id = '001'"
   ]
  },
  {
   "cell_type": "markdown",
   "metadata": {},
   "source": [
    "## Using Variables in Python\n",
    "\n",
    "Once we have data stored with variable names, we can make use of it in calculations.\n",
    "We may want to store our patient's weight in pounds as well as kilograms:\n",
    "\n"
   ]
  },
  {
   "cell_type": "code",
   "execution_count": 5,
   "metadata": {},
   "outputs": [],
   "source": [
    "weight_lb = 2.2 * weight_kg\n"
   ]
  },
  {
   "cell_type": "markdown",
   "metadata": {},
   "source": [
    "We might decide to add a prefix to our patient identifier:\n"
   ]
  },
  {
   "cell_type": "code",
   "execution_count": 6,
   "metadata": {},
   "outputs": [],
   "source": [
    "patient_id = 'inflam_' + patient_id"
   ]
  },
  {
   "cell_type": "markdown",
   "metadata": {},
   "source": [
    "## Built-in Python functions\n",
    "\n",
    "To carry out common tasks with data and variables in Python,\n",
    "the language provides us with several built-in [functions](../learners/reference.md#function).\n",
    "To display information to the screen, we use the `print` function:"
   ]
  },
  {
   "cell_type": "code",
   "execution_count": 7,
   "metadata": {},
   "outputs": [
    {
     "name": "stdout",
     "output_type": "stream",
     "text": [
      "132.66\n",
      "inflam_001\n"
     ]
    }
   ],
   "source": [
    "print(weight_lb)\n",
    "print(patient_id)\n"
   ]
  },
  {
   "cell_type": "markdown",
   "metadata": {},
   "source": [
    "When we want to make use of a function, referred to as calling the function,\n",
    "we follow its name by parentheses. The parentheses are important:\n",
    "if you leave them off, the function doesn't actually run!\n",
    "Sometimes you will include values or variables inside the parentheses for the function to use.\n",
    "In the case of `print`,\n",
    "we use the parentheses to tell the function what value we want to display.\n",
    "We will learn more about how functions work and how to create our own in later episodes.\n",
    "\n",
    "We can display multiple things at once using only one `print` call:\n",
    "\n"
   ]
  },
  {
   "cell_type": "code",
   "execution_count": 8,
   "metadata": {},
   "outputs": [
    {
     "name": "stdout",
     "output_type": "stream",
     "text": [
      "inflam_001 weight in kilograms: 60.3\n"
     ]
    }
   ],
   "source": [
    "\n",
    "print(patient_id, 'weight in kilograms:', weight_kg)\n"
   ]
  },
  {
   "cell_type": "markdown",
   "metadata": {},
   "source": [
    "We can also call a function inside of another\n",
    "[function call](../learners/reference.md#function-call).\n",
    "For example, Python has a built-in function called `type` that tells you a value's data type:\n"
   ]
  },
  {
   "cell_type": "code",
   "execution_count": 9,
   "metadata": {},
   "outputs": [
    {
     "name": "stdout",
     "output_type": "stream",
     "text": [
      "<class 'float'>\n",
      "<class 'str'>\n"
     ]
    }
   ],
   "source": [
    "print(type(60.3))\n",
    "print(type(patient_id))\n"
   ]
  },
  {
   "cell_type": "markdown",
   "metadata": {},
   "source": [
    "Moreover, we can do arithmetic with variables right inside the `print` function:"
   ]
  },
  {
   "cell_type": "code",
   "execution_count": 10,
   "metadata": {},
   "outputs": [
    {
     "name": "stdout",
     "output_type": "stream",
     "text": [
      "weight in pounds: 132.66\n"
     ]
    }
   ],
   "source": [
    "print('weight in pounds:', 2.2 * weight_kg)\n"
   ]
  },
  {
   "cell_type": "markdown",
   "metadata": {},
   "source": [
    "The above command, however, did not change the value of `weight_kg`:\n"
   ]
  },
  {
   "cell_type": "code",
   "execution_count": 11,
   "metadata": {},
   "outputs": [
    {
     "name": "stdout",
     "output_type": "stream",
     "text": [
      "60.3\n"
     ]
    }
   ],
   "source": [
    "print(weight_kg)\n"
   ]
  },
  {
   "cell_type": "markdown",
   "metadata": {},
   "source": [
    "To change the value of the `weight_kg` variable, we have to\n",
    "**assign** `weight_kg` a new value using the equals `=` sign:\n"
   ]
  },
  {
   "cell_type": "code",
   "execution_count": 12,
   "metadata": {},
   "outputs": [
    {
     "name": "stdout",
     "output_type": "stream",
     "text": [
      "weight in kilograms is now: 65.0\n"
     ]
    }
   ],
   "source": [
    "weight_kg = 65.0\n",
    "print('weight in kilograms is now:', weight_kg)\n"
   ]
  },
  {
   "cell_type": "markdown",
   "metadata": {},
   "source": [
    "## Variables as Sticky Notes\n",
    "\n",
    "A variable in Python is analogous to a sticky note with a name written on it:\n",
    "assigning a value to a variable is like putting that sticky note on a particular value.\n",
    "\n",
    "![](fig/python-sticky-note-variables-01.svg){alt='Value of 65.0 with weight\\_kg label stuck on it'}\n",
    "\n",
    "Using this analogy, we can investigate how assigning a value to one variable\n",
    "does **not** change values of other, seemingly related, variables.  For\n",
    "example, let's store the subject's weight in pounds in its own variable:\n",
    "\n"
   ]
  },
  {
   "cell_type": "code",
   "execution_count": 13,
   "metadata": {},
   "outputs": [
    {
     "name": "stdout",
     "output_type": "stream",
     "text": [
      "weight in kilograms: 65.0 and in pounds: 143.0\n"
     ]
    }
   ],
   "source": [
    "# There are 2.2 pounds per kilogram\n",
    "weight_lb = 2.2 * weight_kg\n",
    "print('weight in kilograms:', weight_kg, 'and in pounds:', weight_lb)\n"
   ]
  },
  {
   "cell_type": "markdown",
   "metadata": {},
   "source": [
    "Everything in a line of code following the '#' symbol is a\n",
    "[comment](../learners/reference.md#comment) that is ignored by Python.\n",
    "Comments allow programmers to leave explanatory notes for other\n",
    "programmers or their future selves.\n",
    "\n",
    "![](fig/python-sticky-note-variables-02.svg){alt='Value of 65.0 with weight\\_kg label stuck on it, and value of 143.0 with weight\\_lb label stuck on it'}\n",
    "\n",
    "Similar to above, the expression `2.2 * weight_kg` is evaluated to `143.0`,\n",
    "and then this value is assigned to the variable `weight_lb` (i.e. the sticky\n",
    "note `weight_lb` is placed on `143.0`). At this point, each variable is\n",
    "\"stuck\" to completely distinct and unrelated values.\n",
    "\n",
    "Let's now change `weight_kg`:\n"
   ]
  },
  {
   "cell_type": "code",
   "execution_count": 14,
   "metadata": {},
   "outputs": [
    {
     "name": "stdout",
     "output_type": "stream",
     "text": [
      "weight in kilograms is now: 100.0 and weight in pounds is still: 143.0\n"
     ]
    }
   ],
   "source": [
    "weight_kg = 100.0\n",
    "print('weight in kilograms is now:', weight_kg, 'and weight in pounds is still:', weight_lb)"
   ]
  },
  {
   "cell_type": "markdown",
   "metadata": {},
   "source": [
    "![](fig/python-sticky-note-variables-03.svg){alt='Value of 100.0 with label weight\\_kg stuck on it, and value of 143.0 with label weight\\_lbstuck on it'}\n",
    "\n",
    "Since `weight_lb` doesn't \"remember\" where its value comes from,\n",
    "it is not updated when we change `weight_kg`.\n",
    "\n"
   ]
  },
  {
   "cell_type": "markdown",
   "metadata": {},
   "source": [
    "## Check Your Understanding\n",
    "\n",
    "What values do the variables `mass` and `age` have after each of the following statements?\n",
    "Test your answer by executing the lines.\n"
   ]
  },
  {
   "cell_type": "code",
   "execution_count": 15,
   "metadata": {},
   "outputs": [],
   "source": [
    "mass = 47.5\n",
    "age = 122\n",
    "mass = mass * 2.0\n",
    "age = age - 20\n"
   ]
  },
  {
   "cell_type": "code",
   "execution_count": 20,
   "metadata": {},
   "outputs": [
    {
     "data": {
      "text/plain": [
       "95.0"
      ]
     },
     "execution_count": 20,
     "metadata": {},
     "output_type": "execute_result"
    }
   ],
   "source": [
    "mass"
   ]
  },
  {
   "cell_type": "markdown",
   "metadata": {},
   "source": [
    "\n",
    "## Sorting Out References\n",
    "\n",
    "Python allows you to assign multiple values to multiple variables in one line by separating\n",
    "the variables and values with commas. What does the following program print out?"
   ]
  },
  {
   "cell_type": "code",
   "execution_count": 16,
   "metadata": {},
   "outputs": [
    {
     "name": "stdout",
     "output_type": "stream",
     "text": [
      "Hopper Grace\n"
     ]
    }
   ],
   "source": [
    "\n",
    "first, second = 'Grace', 'Hopper'\n",
    "third, fourth = second, first\n",
    "print(third, fourth)\n",
    "\n"
   ]
  },
  {
   "cell_type": "markdown",
   "metadata": {},
   "source": [
    "## Seeing Data Types\n",
    "\n",
    "What are the data types of the following variables?\n"
   ]
  },
  {
   "cell_type": "code",
   "execution_count": 17,
   "metadata": {},
   "outputs": [],
   "source": [
    "planet = 'Earth'\n",
    "apples = 5\n",
    "distance = 10.5\n"
   ]
  },
  {
   "cell_type": "code",
   "execution_count": 18,
   "metadata": {},
   "outputs": [
    {
     "name": "stdout",
     "output_type": "stream",
     "text": [
      "<class 'str'>\n",
      "<class 'int'>\n",
      "<class 'float'>\n"
     ]
    }
   ],
   "source": [
    "## Solution\n",
    "print(type(planet))\n",
    "print(type(apples))\n",
    "print(type(distance))\n"
   ]
  },
  {
   "cell_type": "markdown",
   "metadata": {},
   "source": [
    "- Basic data types in Python include integers, strings, and floating-point numbers.\n",
    "- Use `variable = value` to assign a value to a variable in order to record it in memory.\n",
    "- Variables are created on demand whenever a value is assigned to them.\n",
    "- Use `print(something)` to display the value of `something`.\n",
    "- Use `# some kind of explanation` to add comments to programs.\n",
    "- Built-in functions are always available to use.\n"
   ]
  },
  {
   "cell_type": "markdown",
   "metadata": {},
   "source": [
    "Some extra variants of soem of the above that can be useful:"
   ]
  },
  {
   "cell_type": "code",
   "execution_count": 19,
   "metadata": {},
   "outputs": [
    {
     "name": "stdout",
     "output_type": "stream",
     "text": [
      "Weight in pounds: 143.0\n",
      "Patient ID: inflam_001\n",
      "Weight in kilograms: 100.0 and in pounds: 220.00000000000003\n",
      "Weight in kilograms: 100.0 and in pounds: 220.00000000000003\n",
      "Weight in kilograms:  100.0  and in pounds:  220.00000000000003\n"
     ]
    }
   ],
   "source": [
    "# f-strings - allow calling of a variable within a string\n",
    "print(f\"Weight in pounds: {weight_lb}\")\n",
    "print(f\"Patient ID: {patient_id}\")\n",
    "\n",
    "# f-strings can also do math\n",
    "print(f\"Weight in kilograms: {weight_kg} and in pounds: {2.2 * weight_kg}\")\n",
    "\n",
    "# note that f-strings are easier to read than the following\n",
    "print(\"Weight in kilograms: \" + str(weight_kg) + \" and in pounds: \" + str(2.2 * weight_kg))\n",
    "# and also easier to read than the following\n",
    "print(\"Weight in kilograms: \", weight_kg, \" and in pounds: \", 2.2 * weight_kg)\n",
    "\n",
    "# choosing to write code that is easier to read is called \"coding style\"\n",
    "# coding style is important because it makes it easier for others to read and understand your code\n",
    "# and it makes it easier for you to read and understand your code when you come back to it later"
   ]
  }
 ],
 "metadata": {
  "kernelspec": {
   "display_name": "Python 3",
   "language": "python",
   "name": "python3"
  },
  "language_info": {
   "codemirror_mode": {
    "name": "ipython",
    "version": 3
   },
   "file_extension": ".py",
   "mimetype": "text/x-python",
   "name": "python",
   "nbconvert_exporter": "python",
   "pygments_lexer": "ipython3",
   "version": "3.10.9"
  },
  "orig_nbformat": 4
 },
 "nbformat": 4,
 "nbformat_minor": 2
}

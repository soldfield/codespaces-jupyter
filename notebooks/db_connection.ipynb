{
 "cells": [
  {
   "cell_type": "code",
   "execution_count": null,
   "metadata": {},
   "outputs": [],
   "source": [
    "import pyodbc\n",
    "import pandas as pd\n",
    "# import numpy as np\n",
    "# import plotly\n",
    "# import plotly.graph_objects as go\n",
    "# import plotly.express as px\n",
    "# import math\n",
    "# import statistics\n",
    "import matplotlib.pyplot as plt\n",
    "import numpy as np"
   ]
  },
  {
   "cell_type": "code",
   "execution_count": null,
   "metadata": {},
   "outputs": [],
   "source": [
    "cnxn_str = (\"Driver={SQL Server};\"\n",
    "            \"Server=geosqle07;\"\n",
    "            \"Database=MWD_Proemion;\"\n",
    "            \"Trusted_Connection=yes;\")\n",
    "cnxn = pyodbc.connect(cnxn_str)"
   ]
  },
  {
   "cell_type": "code",
   "execution_count": null,
   "metadata": {},
   "outputs": [],
   "source": [
    "#cursor = cnxn.cursor()"
   ]
  },
  {
   "cell_type": "code",
   "execution_count": null,
   "metadata": {},
   "outputs": [],
   "source": [
    "testquery = (\"SELECT [TimeseiresId], [time], [value], t.[MesurementId], m.signal, [HumanTime] \"\n",
    "             \"FROM [MWD_Proemion].[dbo].[Timeseries] t \"\n",
    "             \"inner join [MWD_Proemion].[dbo].[Mesurements] m \"\n",
    "             \"on t.mesurementid = m.mesurementid \"\n",
    "             \"where HumanTime > '2023-01-01' and HumanTime < '2023-01-03' \"\n",
    "             \"and (signal = 'value.Depth' \"\n",
    "             \"or signal = 'value.Speed' or signal = 'value.Torque')\"\n",
    "             )"
   ]
  },
  {
   "cell_type": "code",
   "execution_count": null,
   "metadata": {},
   "outputs": [],
   "source": [
    "#cursor.execute(testquery)"
   ]
  },
  {
   "cell_type": "code",
   "execution_count": null,
   "metadata": {},
   "outputs": [],
   "source": [
    "#cnxn.close()"
   ]
  },
  {
   "cell_type": "code",
   "execution_count": null,
   "metadata": {},
   "outputs": [],
   "source": [
    "data = pd.read_sql(testquery,cnxn)\n",
    "data"
   ]
  },
  {
   "cell_type": "code",
   "execution_count": null,
   "metadata": {},
   "outputs": [],
   "source": [
    "cnxn.close()"
   ]
  },
  {
   "cell_type": "code",
   "execution_count": null,
   "metadata": {},
   "outputs": [],
   "source": [
    "speed_df = data[data['signal'] == 'value.Speed']\n",
    "speed_df"
   ]
  },
  {
   "cell_type": "code",
   "execution_count": null,
   "metadata": {},
   "outputs": [],
   "source": [
    "depth_df = data[data['signal'] == 'value.Depth']\n",
    "depth_df"
   ]
  },
  {
   "cell_type": "code",
   "execution_count": null,
   "metadata": {},
   "outputs": [],
   "source": [
    "torque_df = data[data['signal'] == 'value.Torque']\n",
    "torque_df"
   ]
  },
  {
   "cell_type": "code",
   "execution_count": null,
   "metadata": {},
   "outputs": [],
   "source": [
    "speed_df.rename(columns={'value': 'Speed'}, inplace=True)\n",
    "depth_df.rename(columns={'value': 'Depth'}, inplace=True)\n",
    "torque_df.rename(columns={'value': 'Torque'}, inplace=True)"
   ]
  },
  {
   "cell_type": "code",
   "execution_count": null,
   "metadata": {},
   "outputs": [],
   "source": [
    "speed_df.drop(['TimeseiresId', 'MesurementId', 'signal'], axis=1, inplace= True)\n",
    "speed_df"
   ]
  },
  {
   "cell_type": "code",
   "execution_count": null,
   "metadata": {},
   "outputs": [],
   "source": [
    "depth_df.drop(['TimeseiresId', 'MesurementId', 'signal'], axis=1, inplace= True)\n",
    "depth_df"
   ]
  },
  {
   "cell_type": "code",
   "execution_count": null,
   "metadata": {},
   "outputs": [],
   "source": [
    "torque_df.drop(['TimeseiresId', 'MesurementId', 'signal'], axis=1, inplace= True)\n",
    "torque_df"
   ]
  },
  {
   "cell_type": "code",
   "execution_count": null,
   "metadata": {},
   "outputs": [],
   "source": [
    "mydf=speed_df.merge(depth_df, how='inner', on=['time', 'HumanTime']).merge(torque_df, how='inner', on=['time', 'HumanTime'])"
   ]
  },
  {
   "cell_type": "code",
   "execution_count": null,
   "metadata": {},
   "outputs": [],
   "source": [
    "mydf.dtypes"
   ]
  },
  {
   "cell_type": "code",
   "execution_count": null,
   "metadata": {},
   "outputs": [],
   "source": [
    "#Plot\n",
    "xpoints = np.array(mydf['Speed'])\n",
    "ypoints = np.array(mydf['HumanTime'])\n",
    "\n",
    "plt.plot(xpoints, ypoints)\n",
    "plt.show()"
   ]
  },
  {
   "cell_type": "code",
   "execution_count": null,
   "metadata": {},
   "outputs": [],
   "source": [
    "#make subplots, plot side by side, raw vs corrected\n",
    "from plotly.subplots import make_subplots\n",
    "import plotly.graph_objects as go\n",
    "\n",
    "fig = make_subplots(rows=1, cols=2)\n",
    "\n",
    "xdata = mydf['Torque']\n",
    "ydata = mydf['HumanTime']\n",
    "xdepth = mydf['Depth']\n",
    "\n",
    "#xtime = time_series['KSPSpeed']\n",
    "#ytime = -time_series['DrillingDepth']\n",
    "\n",
    "#y = np.arange(round(np.min(np.array(profile2['DrillingDepth'])))-10,1) #range(0,round(np.min(np.array(profile2['DrillingDepth'])))-10)\n",
    "#x = np.arange(0,round(np.max(np.array(profile2['KSPSpeed'].dropna())))+11, 50)  # range(0,round(np.min(np.array(profile2['KSPSpeed'])))+10)\n",
    "\n",
    "# yrange = [round(np.min(np.array(profile2['DrillingDepth'])))-2,-32]\n",
    "# #xrange = [round(np.min(np.array(profile2['KSPSpeed'])))-10,round(np.max(np.array(profile2['KSPSpeed'])))+10]\n",
    "# xrange = [400,round(np.max(np.array(profile2['KSPSpeed'].dropna())))+10]\n",
    "# xrange1 = [-10,round(np.max(np.array(profile2['KSPSpeed'].dropna())))+10]\n",
    "\n",
    "# print(x,y)\n",
    "\n",
    "\n",
    "# fig.add_trace(go.Scatter(\n",
    "#     x=xtime, \n",
    "#     y=ytime,\n",
    "#     line_color='red',\n",
    "#     name='Raw data'\n",
    "#     ),\n",
    "#     row=1, col=1)\n",
    "fig.add_trace(go.Scatter(\n",
    "    x=xdata, \n",
    "    y=ydata,\n",
    "    line_color='blue',\n",
    "    name='Corrected data'\n",
    "    ),\n",
    "    row=1, col=1)\n",
    "\n",
    "fig.add_trace(go.Scatter(\n",
    "    x=xdepth, \n",
    "    y=ydata,\n",
    "    line_color='blue',\n",
    "    name='Corrected data'\n",
    "    ),\n",
    "    row=1, col=2)\n",
    "\n",
    "xaxis1=dict(\n",
    "        #range = xrange1,\n",
    "        zeroline=True,\n",
    "        zerolinecolor = 'black',\n",
    "        showline=True,\n",
    "        showgrid=True,\n",
    "        gridcolor = 'black',\n",
    "        showticklabels=True,\n",
    "        linecolor='black',\n",
    "        linewidth=2,\n",
    "        ticks='outside',\n",
    "        tickfont=dict(\n",
    "            family='Arial',\n",
    "            size=12,\n",
    "            color='rgb(82, 82, 82)',\n",
    "        ),\n",
    "    ),\n",
    "\n",
    "xaxis2=dict(\n",
    "    title='Depth',\n",
    "    #range = xrange,\n",
    "    zeroline=True,\n",
    "    zerolinecolor = 'black',\n",
    "    showline=True,\n",
    "    showgrid=True,\n",
    "    gridcolor = 'black',\n",
    "    showticklabels=True,\n",
    "    linecolor='black',\n",
    "    linewidth=2,\n",
    "    ticks='outside',\n",
    "    tickfont=dict(\n",
    "        family='Arial',\n",
    "        size=12,\n",
    "        color='rgb(82, 82, 82)',\n",
    "        )\n",
    "    )\n",
    "yaxis=dict(\n",
    "    #range = yrange, \n",
    "    showgrid=True,\n",
    "    gridcolor = 'black',\n",
    "    zeroline=True,\n",
    "    zerolinecolor = 'black',\n",
    "    linecolor = 'black',\n",
    "    showline=True,\n",
    "    showticklabels=True\n",
    "    )\n",
    "\n",
    "#fig.update_xaxes(title='KSPSpeed')\n",
    "fig.update_xaxes(title='Torque',range=[-10, 500],zeroline=True, zerolinecolor = 'black',showline=True,\n",
    "    showgrid=True,gridcolor = 'black', showticklabels=True,\n",
    "    linecolor='black',\n",
    "    linewidth=2,\n",
    "    ticks='outside',row=1, col=1)\n",
    "fig.update_yaxes(yaxis, title_text=\"Time\",row=1, col=1)\n",
    "fig.update_xaxes(xaxis2, row=1, col=2) #(range=[400,500], row=1, col=2)\n",
    "fig.update_yaxes(yaxis, row=1, col=2)\n",
    "\n",
    "fig.update_layout(\n",
    "    xaxis2=dict(\n",
    "        #range = xrange,\n",
    "        zeroline=True,\n",
    "        zerolinecolor = 'black',\n",
    "        showline=True,\n",
    "        showgrid=True,\n",
    "        gridcolor = 'black',\n",
    "        showticklabels=True,\n",
    "        linecolor='black',\n",
    "        linewidth=2,\n",
    "        ticks='outside',\n",
    "        tickfont=dict(\n",
    "            family='Arial',\n",
    "            size=12,\n",
    "            color='rgb(82, 82, 82)',\n",
    "            ),\n",
    "        ),\n",
    "    autosize=True,\n",
    "    # margin=dict(\n",
    "    #     autoexpand=False,\n",
    "    #     l=50,\n",
    "    #     r=50,\n",
    "    #     t=110,\n",
    "    # ),\n",
    "    showlegend=False,\n",
    "    plot_bgcolor='white',\n",
    "    #width = 500,\n",
    "    #height = 1000,\n",
    "    title = 'T/D',\n",
    "    #xaxis_title = 'KSPSpeed',\n",
    "    #yaxis_title = 'DrillingDepth'\n",
    ")\n",
    "\n",
    "fig.show()"
   ]
  },
  {
   "cell_type": "code",
   "execution_count": null,
   "metadata": {},
   "outputs": [],
   "source": []
  }
 ],
 "metadata": {
  "kernelspec": {
   "display_name": "env",
   "language": "python",
   "name": "python3"
  },
  "language_info": {
   "codemirror_mode": {
    "name": "ipython",
    "version": 3
   },
   "file_extension": ".py",
   "mimetype": "text/x-python",
   "name": "python",
   "nbconvert_exporter": "python",
   "pygments_lexer": "ipython3",
   "version": "3.10.0"
  },
  "orig_nbformat": 4
 },
 "nbformat": 4,
 "nbformat_minor": 2
}
